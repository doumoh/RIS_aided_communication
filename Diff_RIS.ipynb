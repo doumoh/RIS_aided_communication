{
  "cells": [
    {
      "cell_type": "code",
      "execution_count": 40,
      "metadata": {
        "id": "0j1tLG28bE0d"
      },
      "outputs": [],
      "source": [
        "import os # Configure which GPU\n",
        "if os.getenv(\"CUDA_VISIBLE_DEVICES\") is None:\n",
        "    gpu_num = 0 # Use \"\" to use the CPU\n",
        "    os.environ[\"CUDA_VISIBLE_DEVICES\"] = f\"{gpu_num}\"\n",
        "os.environ['TF_CPP_MIN_LOG_LEVEL'] = '3'\n",
        "\n",
        "# Import Sionna\n",
        "try:\n",
        "    import sionna\n",
        "except ImportError as e:\n",
        "    # Install Sionna if package is not already installed\n",
        "    import os\n",
        "    os.system(\"pip install sionna\")\n",
        "    import sionna\n",
        "\n",
        "# Configure the notebook to use only a single GPU and allocate only as much memory as needed\n",
        "# For more details, see https://www.tensorflow.org/guide/gpu\n",
        "import tensorflow as tf\n",
        "gpus = tf.config.list_physical_devices('GPU')\n",
        "if gpus:\n",
        "    try:\n",
        "        tf.config.experimental.set_memory_growth(gpus[0], True)\n",
        "    except RuntimeError as e:\n",
        "        print(e)\n",
        "\n",
        "# Avoid warnings from TensorFlow\n",
        "tf.get_logger().setLevel('ERROR')\n",
        "\n",
        "# Colab does currently not support the latest version of ipython.\n",
        "# Thus, the preview does not work in Colab. However, whenever possible we\n",
        "# strongly recommend to use the scene preview mode.\n",
        "try: # detect if the notebook runs in Colab\n",
        "    import google.colab\n",
        "    no_preview = True # deactivate preview\n",
        "except:\n",
        "    if os.getenv(\"SIONNA_NO_PREVIEW\"):\n",
        "        no_preview = True\n",
        "    else:\n",
        "        no_preview = False\n",
        "\n",
        "resolution = [480,320] # increase for higher quality of renderings\n",
        "\n",
        "# Define magic cell command to skip a cell if needed\n",
        "from IPython.core.magic import register_cell_magic\n",
        "from IPython import get_ipython\n",
        "\n",
        "@register_cell_magic\n",
        "def skip_if(line, cell):\n",
        "    if eval(line):\n",
        "        return\n",
        "    get_ipython().run_cell(cell)\n",
        "\n",
        "# Set random seed for reproducibility\n",
        "sionna.config.seed = 40"
      ]
    },
    {
      "cell_type": "code",
      "execution_count": 41,
      "metadata": {
        "id": "Eu5dYNajbXI_"
      },
      "outputs": [],
      "source": [
        "import numpy as np\n",
        "%matplotlib inline\n",
        "import matplotlib.pyplot as plt\n",
        "from matplotlib import cm\n",
        "from tensorflow.keras import Model\n",
        "from tensorflow.keras.layers import Layer, Dense\n",
        "from sionna import PI\n",
        "from sionna.rt import load_scene, Transmitter, Receiver, RIS, PlanarArray, \\\n",
        "                      r_hat, normalize, Camera"
      ]
    },
    {
      "cell_type": "code",
      "execution_count": 42,
      "metadata": {
        "id": "oGMbJXGBbbdL"
      },
      "outputs": [],
      "source": [
        "\n",
        "class EMRIS(Layer):\n",
        "    def __init__(self, ris, scene):\n",
        "\n",
        "        super().__init__()\n",
        "\n",
        "        # RIS object for this EMRIS\n",
        "        self.ris = ris\n",
        "\n",
        "        # Scene to compute paths\n",
        "        self.scene = scene\n",
        "\n",
        "        # Trainable phase profile initialized to zero\n",
        "        self.phase_profile = tf.Variable(\n",
        "            tf.zeros_like(self.ris.phase_profile.values),\n",
        "            trainable=True,\n",
        "            name=\"phase_profile\"\n",
        "        )\n",
        "\n",
        "        # Trainable amplitude profile initialized to one with a constraint\n",
        "        self.amplitude_profile = tf.Variable(\n",
        "            tf.ones_like(self.ris.amplitude_profile.values),\n",
        "            trainable=True,\n",
        "            constraint=lambda x: tf.abs(x),\n",
        "            name=\"amplitude_profile\"\n",
        "        )\n",
        "\n",
        "    def call(self, inputs):\n",
        "\n",
        "        scene = inputs\n",
        "\n",
        "        def to_db(x):\n",
        "            return 10 * tf.math.log(x) / tf.math.log(10.0)\n",
        "\n",
        "        # Normalize amplitude profile to ensure average power of one\n",
        "        self.ris.amplitude_profile.values = self.amplitude_profile / tf.sqrt(\n",
        "            tf.reduce_mean(self.amplitude_profile ** 2, axis=[1, 2], keepdims=True)\n",
        "        )\n",
        "\n",
        "        # Set the trainable phase profile\n",
        "        self.ris.phase_profile.values = self.phase_profile\n",
        "\n",
        "        # Compute paths using the scene\n",
        "        paths = scene.compute_paths()\n",
        "\n",
        "        # Extract channel impulse response and remove unused dimensions\n",
        "        a = tf.squeeze(paths.cir()[0])\n",
        "\n",
        "\n",
        "        # Compute average path gain per RX\n",
        "        if len(a.shape) >= 1:\n",
        "         path_gain = to_db(tf.reduce_mean(tf.reduce_sum(tf.abs(a) ** 2, axis=-1)))\n",
        "        else:\n",
        "         path_gain = to_db(tf.reduce_mean(tf.abs(a) ** 2))\n",
        "\n",
        "         return path_gain, a\n"
      ]
    },
    {
      "cell_type": "code",
      "execution_count": 46,
      "metadata": {
        "id": "XuKc98CFcRSV",
        "colab": {
          "base_uri": "https://localhost:8080/",
          "height": 607
        },
        "outputId": "76c26b8c-4f5b-4201-e2fb-bb991601bb31"
      },
      "outputs": [
        {
          "output_type": "display_data",
          "data": {
            "text/plain": [
              "<Figure size 786x600 with 1 Axes>"
            ],
            "image/png": "[encoded data removed]"
          },
          "metadata": {}
        }
      ],
      "source": [
        "# Load scene consiting of a simple wedge\n",
        "scene = load_scene(sionna.rt.scene.simple_wedge)\n",
        "scene.frequency = 3e9 # Carrier frequency [Hz]\n",
        "scene.tx_array = PlanarArray(1,1,0.5,0.5,\"iso\", \"V\")\n",
        "scene.rx_array = PlanarArray(1,1,0.5,0.5,\"iso\", \"V\")\n",
        "\n",
        "# Place a transmitter\n",
        "tx = Transmitter(\"tx\", position=[-10,10,0])\n",
        "scene.add(tx)\n",
        "\n",
        "# Place receivers\n",
        "rx = Receiver(\"rx\", position=[30,-15,0])\n",
        "scene.add(rx)\n",
        "# Place RIS\n",
        "ris = RIS(name=\"ris\",\n",
        "          position=[40,10,0],\n",
        "          num_rows=50,\n",
        "          num_cols=50,\n",
        "          num_modes=2,\n",
        "          look_at=(tx.position+rx.position)/2) # Look in between TX and RX\n",
        "scene.add(ris)\n",
        "\n",
        "scene.add(Camera(\"cam\",\n",
        "                         position=[50,-50,130],\n",
        "                         look_at=[0,0,0]))\n",
        "scene.render(camera=\"cam\", num_samples=512);\n"
      ]
    },
    {
      "cell_type": "code",
      "source": [
        "# Instantiate the EMRIS layer\n",
        "emris = EMRIS(ris,scene)\n",
        "\n",
        "\n",
        "path_gain,_ = emris(scene)\n"
      ],
      "metadata": {
        "id": "KAWo15BDYjsE"
      },
      "execution_count": 44,
      "outputs": []
    },
    {
      "cell_type": "code",
      "execution_count": 45,
      "metadata": {
        "colab": {
          "base_uri": "https://localhost:8080/"
        },
        "id": "ejaYYGlLbhnD",
        "outputId": "ce741573-330f-400f-ed8a-1bd804d13d85"
      },
      "outputs": [
        {
          "output_type": "stream",
          "name": "stdout",
          "text": [
            "Iteration 0 - Path Gain: -102.15 dB\n",
            "Iteration 10 - Path Gain: -74.39 dB\n",
            "Iteration 20 - Path Gain: -72.02 dB\n",
            "Iteration 30 - Path Gain: -70.42 dB\n",
            "Iteration 40 - Path Gain: -69.92 dB\n",
            "Iteration 50 - Path Gain: -69.46 dB\n",
            "Iteration 60 - Path Gain: -69.02 dB\n",
            "Iteration 70 - Path Gain: -68.69 dB\n",
            "Iteration 80 - Path Gain: -68.44 dB\n",
            "Iteration 90 - Path Gain: -68.27 dB\n"
          ]
        }
      ],
      "source": [
        "# Optimizer for training\n",
        "optimizer = tf.keras.optimizers.Adam(0.5)\n",
        "\n",
        "# Number of training iterations\n",
        "num_iterations = 100\n",
        "\n",
        "for i in range(num_iterations):\n",
        "    # Use GradientTape for automatic differentiation\n",
        "    with tf.GradientTape() as tape:\n",
        "        # Call the EMRIS layer\n",
        "        path_gain, a = emris((scene))\n",
        "        # Define the loss function\n",
        "        loss = -path_gain\n",
        "\n",
        "    # Compute gradients with respect to the trainable variables\n",
        "    grads = tape.gradient(loss, emris.trainable_variables)\n",
        "\n",
        "    # Apply gradients to update the trainable variables\n",
        "    optimizer.apply_gradients(zip(grads, emris.trainable_variables))\n",
        "\n",
        "    # Log progress every 10 iterations\n",
        "    if i % 10 == 0 or i == 0:\n",
        "        print(f\"Iteration {i} - Path Gain: {path_gain.numpy():.2f} dB\")\n"
      ]
    }
  ],
  "metadata": {
    "colab": {
      "toc_visible": true,
      "provenance": []
    },
    "kernelspec": {
      "display_name": "Python 3",
      "name": "python3"
    }
  },
  "nbformat": 4,
  "nbformat_minor": 0
}