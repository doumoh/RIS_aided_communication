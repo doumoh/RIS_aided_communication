{
  "cells": [
    {
      "cell_type": "markdown",
      "metadata": {
        "id": "view-in-github",
        "colab_type": "text"
      },
      "source": [
        "<a href=\"https://colab.research.google.com/github/doumoh/RIS_aided_communication/blob/main/Test_Ray_tracing_RIS.ipynb\" target=\"_parent\"><img src=\"https://colab.research.google.com/assets/colab-badge.svg\" alt=\"Open In Colab\"/></a>"
      ]
    },
    {
      "cell_type": "code",
      "source": [
        "import os # Configure which GPU\n",
        "if os.getenv(\"CUDA_VISIBLE_DEVICES\") is None:\n",
        "    gpu_num = 0 # Use \"\" to use the CPU\n",
        "    os.environ[\"CUDA_VISIBLE_DEVICES\"] = f\"{gpu_num}\"\n",
        "os.environ['TF_CPP_MIN_LOG_LEVEL'] = '3'\n",
        "\n",
        "# Import Sionna\n",
        "try:\n",
        "    import sionna\n",
        "except ImportError as e:\n",
        "    # Install Sionna if package is not already installed\n",
        "    import os\n",
        "    os.system(\"pip install sionna\")\n",
        "    import sionna\n",
        "\n",
        "# Configure the notebook to use only a single GPU and allocate only as much memory as needed\n",
        "# For more details, see https://www.tensorflow.org/guide/gpu\n",
        "import tensorflow as tf\n",
        "gpus = tf.config.list_physical_devices('GPU')\n",
        "if gpus:\n",
        "    try:\n",
        "        tf.config.experimental.set_memory_growth(gpus[0], True)\n",
        "    except RuntimeError as e:\n",
        "        print(e)\n",
        "\n",
        "# Avoid warnings from TensorFlow\n",
        "tf.get_logger().setLevel('ERROR')\n",
        "\n",
        "# Colab does currently not support the latest version of ipython.\n",
        "# Thus, the preview does not work in Colab. However, whenever possible we\n",
        "# strongly recommend to use the scene preview mode.\n",
        "try: # detect if the notebook runs in Colab\n",
        "    import google.colab\n",
        "    no_preview = True # deactivate preview\n",
        "except:\n",
        "    if os.getenv(\"SIONNA_NO_PREVIEW\"):\n",
        "        no_preview = True\n",
        "    else:\n",
        "        no_preview = False\n",
        "\n",
        "resolution = [480,320] # increase for higher quality of renderings\n",
        "\n",
        "# Define magic cell command to skip a cell if needed\n",
        "from IPython.core.magic import register_cell_magic\n",
        "from IPython import get_ipython\n",
        "\n",
        "@register_cell_magic\n",
        "def skip_if(line, cell):\n",
        "    if eval(line):\n",
        "        return\n",
        "    get_ipython().run_cell(cell)\n",
        "\n",
        "# Set random seed for reproducibility\n",
        "sionna.config.seed = 40\n",
        "import numpy as np\n",
        "%matplotlib inline\n",
        "import matplotlib.pyplot as plt\n",
        "from matplotlib import cm\n",
        "\n",
        "from sionna import PI\n",
        "from sionna.rt import load_scene, Transmitter, Receiver, RIS, PlanarArray, \\\n",
        "                      r_hat, normalize, Camera"
      ],
      "metadata": {
        "id": "7z_PmULOVwmo"
      },
      "execution_count": 2,
      "outputs": []
    },
    {
      "cell_type": "code",
      "source": [
        "# Load an empty scene and configure single linearly polarized antennas for\n",
        "# all transmitters and receivers\n",
        "scene = load_scene()\n",
        "scene.frequency = 5.8e9 # Carrier frequency [Hz]\n",
        "scene.tx_array = PlanarArray(1,1,0.5,0.5,\"iso\", \"V\")\n",
        "scene.rx_array = PlanarArray(1,1,0.5,0.5,\"iso\", \"V\")\n",
        "\n",
        "# Place a transmitter far away from the RIS so that\n",
        "# the incoming wave is almost planar\n",
        "tx = Transmitter(\"tx\", [-2.5,3,1.5])\n",
        "rx = Receiver(\"rx\", [3,0,3])\n",
        "scene.add(tx)\n",
        "scene.add(rx)\n",
        "\n",
        "# Configure RIS in the x-z plane centered at the origin\n",
        "width = 8 * scene.wavelength # Width [m] as described in [1]\n",
        "num_rows = num_cols = int(width/(0.5*scene.wavelength))\n",
        "\n",
        "ris = RIS(name=\"ris\",\n",
        "          position=[0.5,0,1.5],\n",
        "          orientation=[0,-PI/2,0],\n",
        "          num_rows=num_rows,\n",
        "          num_cols=num_cols)\n",
        "scene.add(ris)"
      ],
      "metadata": {
        "id": "fezq_HUUV1xR"
      },
      "execution_count": 37,
      "outputs": []
    },
    {
      "cell_type": "code",
      "source": [
        "source = tx.position # Location of the origin of the incoming ray\n",
        "target = rx.position # Target position\n",
        "\n",
        "# Configure the RIS as focusing lens\n",
        "ris.focusing_lens(source, target)"
      ],
      "metadata": {
        "id": "zfHRaMGwpW9h"
      },
      "execution_count": 33,
      "outputs": []
    },
    {
      "cell_type": "code",
      "source": [
        "phase_profile_np = ris.phase_profile.values.numpy()\n",
        "\n",
        "# Set all values to 0 initially\n",
        "phase_profile_np[:] = 0\n",
        "\n",
        "# Set the first 3 columns to 180 degrees\n",
        "#phase_profile_np[:, 3:5, :] = 180\n",
        "#phase_profile_np[:, 8:10,:] = 180\n",
        "#phase_profile_np[:, 13:15,:] = 180\n",
        "#phase_profile_np[:, :,:5] = 180\n",
        "#phase_profile_np[:, :,11:] = 180\n",
        "\n",
        "\"\"\" configuration for state (a) \"\"\"\n",
        "phase_profile_np[:, :,3:5] = 180\n",
        "phase_profile_np[:, :,8:10] = 180\n",
        "phase_profile_np[:, :,13:15] = 180\n",
        "\n",
        "\n",
        "\n",
        "\n",
        "\n",
        "# Convert back to a TensorFlow tensor and reassign\n",
        "ris.phase_profile.values = tf.convert_to_tensor(phase_profile_np, dtype=tf.float32)\n",
        "print(ris.phase_profile.values)"
      ],
      "metadata": {
        "id": "lG0M9MzMV78-",
        "outputId": "68dc2879-d4bf-47b3-fcaa-c01b95cb5c16",
        "colab": {
          "base_uri": "https://localhost:8080/"
        }
      },
      "execution_count": 40,
      "outputs": [
        {
          "output_type": "stream",
          "name": "stdout",
          "text": [
            "tf.Tensor(\n",
            "[[[  0.   0.   0. 180. 180.   0.   0.   0. 180. 180.   0.   0.   0. 180.\n",
            "   180.   0.]\n",
            "  [  0.   0.   0. 180. 180.   0.   0.   0. 180. 180.   0.   0.   0. 180.\n",
            "   180.   0.]\n",
            "  [  0.   0.   0. 180. 180.   0.   0.   0. 180. 180.   0.   0.   0. 180.\n",
            "   180.   0.]\n",
            "  [  0.   0.   0. 180. 180.   0.   0.   0. 180. 180.   0.   0.   0. 180.\n",
            "   180.   0.]\n",
            "  [  0.   0.   0. 180. 180.   0.   0.   0. 180. 180.   0.   0.   0. 180.\n",
            "   180.   0.]\n",
            "  [  0.   0.   0. 180. 180.   0.   0.   0. 180. 180.   0.   0.   0. 180.\n",
            "   180.   0.]\n",
            "  [  0.   0.   0. 180. 180.   0.   0.   0. 180. 180.   0.   0.   0. 180.\n",
            "   180.   0.]\n",
            "  [  0.   0.   0. 180. 180.   0.   0.   0. 180. 180.   0.   0.   0. 180.\n",
            "   180.   0.]\n",
            "  [  0.   0.   0. 180. 180.   0.   0.   0. 180. 180.   0.   0.   0. 180.\n",
            "   180.   0.]\n",
            "  [  0.   0.   0. 180. 180.   0.   0.   0. 180. 180.   0.   0.   0. 180.\n",
            "   180.   0.]\n",
            "  [  0.   0.   0. 180. 180.   0.   0.   0. 180. 180.   0.   0.   0. 180.\n",
            "   180.   0.]\n",
            "  [  0.   0.   0. 180. 180.   0.   0.   0. 180. 180.   0.   0.   0. 180.\n",
            "   180.   0.]\n",
            "  [  0.   0.   0. 180. 180.   0.   0.   0. 180. 180.   0.   0.   0. 180.\n",
            "   180.   0.]\n",
            "  [  0.   0.   0. 180. 180.   0.   0.   0. 180. 180.   0.   0.   0. 180.\n",
            "   180.   0.]\n",
            "  [  0.   0.   0. 180. 180.   0.   0.   0. 180. 180.   0.   0.   0. 180.\n",
            "   180.   0.]\n",
            "  [  0.   0.   0. 180. 180.   0.   0.   0. 180. 180.   0.   0.   0. 180.\n",
            "   180.   0.]]], shape=(1, 16, 16), dtype=float32)\n"
          ]
        }
      ]
    },
    {
      "cell_type": "code",
      "source": [
        "import numpy as np\n",
        "import tensorflow as tf\n",
        "import matplotlib.pyplot as plt\n",
        "\n",
        "class RISModel:\n",
        "    def __init__(self, M=16, N=16, wavelength=0.05172, tx_pos=tx.position):\n",
        "        self.M = M  # Number of unit cells along x-axis\n",
        "        self.N = N  # Number of unit cells along y-axis\n",
        "        self.k = 2 * np.pi / wavelength  # Wavenumber\n",
        "        self.tx_pos = np.array(tx_pos)  # Transmitter position\n",
        "        self.eta0 = 120 * np.pi  # Free-space impedance\n",
        "        self.Pt = 1  # Transmit power\n",
        "        self.Gt = 100 # Reciever antenna gain\n",
        "        self.Gr = 100  # Transmit antenna gain\n",
        "        self.A_physical = self.Gr * wavelength ** 2 / 4 * np.pi # Approximate physical area\n",
        "\n",
        "\n",
        "    def field_at_points(self, scene, tx, ris, theta_vals, r_distance):\n",
        "        E_vals = []\n",
        "        E_phase = []\n",
        "\n",
        "        for theta in np.radians(theta_vals):\n",
        "            rx.position = (r_distance * np.cos(theta), 0, r_distance * np.sin(theta)) # Scanning along with arc of R = 3 m\n",
        "            # Alternative for azimuthal scanning:\n",
        "            # rx_position = (r_distance * np.cos(theta), r_distance * np.sin(theta), 0)\n",
        "\n",
        "\n",
        "            paths = scene.compute_paths(los=False, reflection=False, ris=True)\n",
        "            a = tf.squeeze(paths.cir()[0])\n",
        "\n",
        "            e = (4 * np.pi / scene.wavelength) * tx.position[1] * tf.abs(a) # Compute E\n",
        "\n",
        "            e_phase = tf.math.angle(a)\n",
        "            E_vals.append(e)\n",
        "            E_phase.append(e_phase)\n",
        "\n",
        "        # Convert to NumPy array and remove NaNs\n",
        "        E_vals = np.array(E_vals)\n",
        "\n",
        "        E_phase = np.array(E_phase)\n",
        "        E_vals = np.nan_to_num(E_vals, nan=0.0)  # Replace NaNs with 0\n",
        "        E_phase = np.nan_to_num(E_phase, nan=0.0)\n",
        "        E_total_magnitude = np.sum(np.array(E_vals))\n",
        "        E_total_phase = np.sum(np.array(E_phase))\n",
        "\n",
        "        # Avoid division by zero before computing dB\n",
        "        max_E = np.max(E_vals)\n",
        "        if max_E > 0:\n",
        "            E_vals_dB = 20 * np.log10(E_vals / max_E)\n",
        "        else:\n",
        "\n",
        "            E_vals_dB = np.zeros_like(E_vals)  # Avoid NaNs in plot\n",
        "\n",
        "\n",
        "        # Plot results\n",
        "        plt.figure(figsize=(8, 5))\n",
        "        plt.plot(theta_vals, E_vals_dB, color=\"blue\", label=\"Scattered Field (dB)\")\n",
        "        plt.xlabel(r\"$\\theta$ (degrees)\")\n",
        "        plt.ylabel(r\"Normalized $E_{\\text{total}}$ (dB)\")\n",
        "        plt.title(\"Total Scattered Electric Field vs. Scattering Angle\")\n",
        "        plt.legend()\n",
        "        plt.grid()\n",
        "        plt.show()\n",
        "\n",
        "        Rt=np.linalg.norm(np.array(tx.position[1]) - np.array(ris.position[1])) # Distance between Transmitter and RIS\n",
        "        phi_sc_tot = np.angle(E_total_phase)  # Phase of the total scattered field\n",
        "        E_inc = np.sqrt(self.eta0 * self.Gt * self.Pt / (2 * np.pi)) * np.exp(-1j * self.k * Rt) / Rt # E_inc eq (21)\n",
        "        sigma_s = (4 * np.pi * Rt**2) * ((E_total_magnitude / E_inc) ** 2) * np.exp(2j * (phi_sc_tot + self.k * Rt - np.angle(E_inc))) # E_inc eq (20)\n",
        "\n",
        "        G = np.abs(sigma_s) / self.A_physical # Gain from eq (19)\n",
        "\n",
        "        return E_total_magnitude,phi_sc_tot,sigma_s,G\n",
        "\n",
        "# Example usage:\n",
        "theta_vals = np.linspace(-90, 90, 200)  # Angle range for scanning\n",
        "ris_model = RISModel()\n",
        "\n",
        "E_vals,E_phase,sigma,g = ris_model.field_at_points(scene, tx, ris, theta_vals,3)\n"
      ],
      "metadata": {
        "id": "CCpgWkH8V8ly",
        "outputId": "fd40fdcd-7469-4dd0-9161-96c7b40c0fb9",
        "colab": {
          "base_uri": "https://localhost:8080/",
          "height": 526
        }
      },
      "execution_count": 42,
      "outputs": [
        {
          "output_type": "stream",
          "name": "stderr",
          "text": [
            "<ipython-input-42-3c581f0f02d5>:49: RuntimeWarning: divide by zero encountered in log10\n",
            "  E_vals_dB = 20 * np.log10(E_vals / max_E)\n"
          ]
        },
        {
          "output_type": "display_data",
          "data": {
            "text/plain": [
              "<Figure size 800x500 with 1 Axes>"
            ],
            "image/png": "[encoded data removed]"
          },
          "metadata": {}
        }
      ]
    },
    {
      "cell_type": "code",
      "source": [
        "\"\"\" The result does not match with the fig .8 in the paper\"\"\""
      ],
      "metadata": {
        "id": "ojgZJIwscep5"
      },
      "execution_count": null,
      "outputs": []
    },
    {
      "cell_type": "code",
      "source": [
        "print(E_vals,np.rad2deg(E_phase),sigma,g)\n",
        "print(20*np.log10(np.abs(sigma)))\n",
        "print(20*np.log10(E_vals))\n",
        "print(20*np.log10(g))\n",
        "\n"
      ],
      "metadata": {
        "id": "Ubo4I46of2Wd",
        "outputId": "cb24180c-d5d8-4115-fc81-d39a1ad14d15",
        "colab": {
          "base_uri": "https://localhost:8080/"
        }
      },
      "execution_count": 53,
      "outputs": [
        {
          "output_type": "stream",
          "name": "stdout",
          "text": [
            "0.47746664 180.0 (0.03808466296428117+0.006731256605125858j) 0.18408686029959198\n",
            "-28.251405911137052\n",
            "-6.421139240264893\n",
            "-14.699544186794737\n"
          ]
        }
      ]
    }
  ],
  "metadata": {
    "colab": {
      "name": "Welcome To Colab",
      "toc_visible": true,
      "provenance": [],
      "include_colab_link": true
    },
    "kernelspec": {
      "display_name": "Python 3",
      "name": "python3"
    }
  },
  "nbformat": 4,
  "nbformat_minor": 0
}
